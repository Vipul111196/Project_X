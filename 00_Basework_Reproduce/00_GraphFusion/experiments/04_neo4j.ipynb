{
 "cells": [
  {
   "cell_type": "code",
   "execution_count": 2,
   "metadata": {},
   "outputs": [],
   "source": [
    "import pickle\n",
    "\n",
    "with open('I:/11_DFKI_Hiwi/Work/01_Code/Project_X/fused_graph.pkl', 'rb') as file:\n",
    "    graph_documents = pickle.load(file)"
   ]
  },
  {
   "cell_type": "code",
   "execution_count": 3,
   "metadata": {},
   "outputs": [
    {
     "name": "stdout",
     "output_type": "stream",
     "text": [
      "Type of `graph_documents`: <class 'list'>\n",
      "Item 0 type: <class 'langchain_community.graphs.graph_document.GraphDocument'>\n"
     ]
    }
   ],
   "source": [
    "print(\"Type of `graph_documents`:\", type(graph_documents))\n",
    "\n",
    "if isinstance(graph_documents, list):\n",
    "    for i, doc in enumerate(graph_documents):\n",
    "        print(f\"Item {i} type:\", type(doc))\n",
    "        # You can also do:\n",
    "        # print(doc)\n"
   ]
  },
  {
   "cell_type": "code",
   "execution_count": 4,
   "metadata": {},
   "outputs": [
    {
     "name": "stdout",
     "output_type": "stream",
     "text": [
      "[GraphDocument(nodes=[Node(id='summarization dataset', type='Concept', properties={}), Node(id='summarization performance', type='Concept', properties={}), Node(id='question answering', type='Concept', properties={}), Node(id='semantic parsing', type='Concept', properties={}), Node(id='natural language explanation', type='Concept', properties={}), Node(id='text explanation', type='Concept', properties={}), Node(id='document-level relation extraction', type='Concept', properties={}), Node(id='relation extraction', type='Concept', properties={}), Node(id='question answering qa', type='Concept', properties={}), Node(id='multi-document downstream tasks', type='Concept', properties={}), Node(id='open domain question answering (ODQA)', type='Concept', properties={}), Node(id='reasoning datasets', type='Concept', properties={}), Node(id='summarization evaluation', type='Concept', properties={}), Node(id='Abstractive summarization', type='Concept', properties={}), Node(id='form question answering', type='Concept', properties={}), Node(id='instruction following', type='Concept', properties={}), Node(id='RSTformer', type='Concept', properties={}), Node(id='summarization model', type='Concept', properties={}), Node(id='text generation', type='Concept', properties={}), Node(id='generating free-text rationales', type='Concept', properties={}), Node(id='CrossSum', type='Concept', properties={}), Node(id='summarization system', type='Concept', properties={}), Node(id='text rationale', type='Concept', properties={}), Node(id=\"model's reasoning\", type='Concept', properties={}), Node(id='relation extraction docre', type='Concept', properties={}), Node(id='event temporal relation extraction', type='Concept', properties={}), Node(id='inconsistencies detection', type='Concept', properties={}), Node(id='extractive summarization', type='Concept', properties={}), Node(id='temporal reasoning', type='Concept', properties={}), Node(id='Assessing factual consistency', type='Concept', properties={}), Node(id='reasoning task', type='Concept', properties={}), Node(id='commonsense If-Then reasoning tasks', type='Concept', properties={}), Node(id='commonsense question answering', type='Concept', properties={}), Node(id='decision making', type='Concept', properties={}), Node(id='open-domain question answering', type='Concept', properties={}), Node(id='retrieval model evaluation', type='Concept', properties={}), Node(id='abstractive summarization', type='Concept', properties={}), Node(id='real-world knowledge evaluation', type='Concept', properties={}), Node(id='factual consistency', type='Concept', properties={}), Node(id='factual consistency evaluation', type='Concept', properties={}), Node(id='Cross-lingual summarization', type='Concept', properties={}), Node(id='event detection and event-relation extraction tasks', type='Concept', properties={}), Node(id='conditional inference on joint textual and visual clues', type='Concept', properties={}), Node(id='product question answering', type='Concept', properties={}), Node(id='enhancing language representation', type='Concept', properties={}), Node(id='free-text rationales', type='Concept', properties={}), Node(id='argument extraction', type='Concept', properties={}), Node(id='model generalizability', type='Concept', properties={}), Node(id='Human evaluation', type='Concept', properties={}), Node(id='QAmden', type='Concept', properties={}), Node(id='Dialogue summarization', type='Concept', properties={}), Node(id='chain-of-thought', type='Concept', properties={}), Node(id='multi-document non-factoid question answering', type='Concept', properties={}), Node(id='counterfactual reasoning tasks', type='Concept', properties={}), Node(id='COGS', type='Concept', properties={}), Node(id='Table Question Answering (TQA)', type='Concept', properties={}), Node(id='Multi-DYLE', type='Concept', properties={}), Node(id='controlled text generation', type='Concept', properties={}), Node(id='evaluation metrics development', type='Concept', properties={}), Node(id='DIONYSUS', type='Concept', properties={}), Node(id='open domain question answering', type='Concept', properties={}), Node(id='data-to-text generation', type='Concept', properties={}), Node(id='commonsense causality', type='Concept', properties={}), Node(id='guiding model reasoning', type='Concept', properties={}), Node(id='explainable recommendation', type='Concept', properties={}), Node(id='Natural Language Processing', type='Concept', properties={}), Node(id='attribute-based Controlled Text Generation', type='Concept', properties={}), Node(id='attribute extraction', type='Concept', properties={}), Node(id='abductive reasoning tasks', type='Concept', properties={}), Node(id='cross-prompt automated essay scoring', type='Concept', properties={}), Node(id='Open-ended Long Text Generation', type='Concept', properties={}), Node(id='pre-trained language models', type='Concept', properties={}), Node(id='pre-training models', type='Concept', properties={}), Node(id='Event Argument Extraction (EAE)', type='Concept', properties={}), Node(id='explainable NLP', type='Concept', properties={}), Node(id='Event Extraction', type='Concept', properties={}), Node(id='improving classification', type='Concept', properties={}), Node(id='new information', type='Concept', properties={}), Node(id='multi-document question answering', type='Concept', properties={}), Node(id='semantic representation', type='Concept', properties={}), Node(id='factual consistency in summarization', type='Concept', properties={}), Node(id='audio-visual text generation', type='Concept', properties={}), Node(id='multimodal sarcasm explanation', type='Concept', properties={}), Node(id='CSJ', type='Concept', properties={}), Node(id='cross-lingual summarization', type='Concept', properties={}), Node(id='multimodal relation extraction', type='Concept', properties={}), Node(id='event relation', type='Concept', properties={}), Node(id='assessing factual correctness', type='Concept', properties={}), Node(id='Task-Oriented Dialogue System', type='Concept', properties={}), Node(id='dialogue system', type='Concept', properties={}), Node(id='TempReason', type='Concept', properties={}), Node(id='elaboration generation', type='Concept', properties={}), Node(id='multi-aspect controllable text generation', type='Concept', properties={}), Node(id='event relational reasoning tasks', type='Concept', properties={}), Node(id='few-shot summarization', type='Concept', properties={}), Node(id='temporal reasoning capability', type='Concept', properties={}), Node(id='Table Question Answering (TableQA)', type='Concept', properties={}), Node(id='cross-document informational relations', type='Concept', properties={}), Node(id='acquisition of relational facts', type='Concept', properties={}), Node(id='document-level text simplification', type='Concept', properties={}), Node(id='CLEVR-CoGenT', type='Concept', properties={}), Node(id='Answer Sentence Selection (AS2)', type='Concept', properties={}), Node(id='Table Question Answering', type='Concept', properties={}), Node(id='event detection', type='Concept', properties={}), Node(id='lexical relations prediction', type='Concept', properties={}), Node(id='text-to-image disambiguation', type='Concept', properties={}), Node(id='natural language inference', type='Concept', properties={}), Node(id='reducing reliance on shortcuts', type='Concept', properties={}), Node(id='chatbot', type='Concept', properties={}), Node(id='human utility', type='Concept', properties={}), Node(id='knowledge graphs', type='Concept', properties={}), Node(id='open-domain dialogue system', type='Concept', properties={}), Node(id='competitive programming task', type='Concept', properties={}), Node(id='open-domain dialogue systems', type='Concept', properties={}), Node(id='non-factoid question answering', type='Concept', properties={}), Node(id='benchmarking models', type='Concept', properties={}), Node(id='retrieval model', type='Concept', properties={}), Node(id='long-form question answering', type='Concept', properties={}), Node(id='Automatic evaluation', type='Concept', properties={}), Node(id='cross-lingual transfer', type='Concept', properties={}), Node(id='multi-hop question answering', type='Concept', properties={}), Node(id='generating useful intermediate context', type='Concept', properties={}), Node(id='ExplainMeetSum', type='Concept', properties={}), Node(id='multi-modal reasoning task', type='Concept', properties={}), Node(id='TRAC', type='Concept', properties={}), Node(id='SCAN', type='Concept', properties={}), Node(id='ambiguity resolution', type='Concept', properties={}), Node(id='commonsense reasoning', type='Concept', properties={}), Node(id='out-of-distribution performance', type='Concept', properties={}), Node(id='reasoning', type='Concept', properties={}), Node(id='fine-tuning models', type='Concept', properties={}), Node(id='augmenting training data', type='Concept', properties={}), Node(id='Multimodal summarization', type='Concept', properties={}), Node(id='in-distribution accuracy', type='Concept', properties={}), Node(id='knowledge graph construction', type='Concept', properties={}), Node(id='language models', type='Concept', properties={}), Node(id='reasoning and prediction processes', type='Concept', properties={}), Node(id='information extraction', type='Concept', properties={}), Node(id='gender-fairness', type='Concept', properties={}), Node(id='natural language understanding', type='Concept', properties={}), Node(id='multi-document summarization', type='Concept', properties={}), Node(id='shot learning', type='Concept', properties={}), Node(id='zero-shot learning', type='Concept', properties={}), Node(id='MM-Sum', type='Concept', properties={}), Node(id='long-form answers evaluation', type='Concept', properties={}), Node(id='multilingual relation extraction', type='Concept', properties={}), Node(id='natural language processing', type='Concept', properties={}), Node(id='dialogue summarization', type='Concept', properties={}), Node(id='justifying predictions', type='Concept', properties={}), Node(id='information retrieval', type='Concept', properties={}), Node(id='fairness-related harms in AI systems', type='Concept', properties={}), Node(id='Document-level text simplification', type='Concept', properties={}), Node(id='visual spatial description', type='Concept', properties={}), Node(id='hierarchical text classification', type='Concept', properties={}), Node(id='classification performance', type='Concept', properties={}), Node(id='discourse analysis', type='Concept', properties={}), Node(id='dense retrieval models evaluation', type='Concept', properties={}), Node(id='large language models', type='Concept', properties={}), Node(id='Universal Information Extraction', type='Concept', properties={}), Node(id='human evaluation', type='Concept', properties={}), Node(id='model reasoning', type='Concept', properties={}), Node(id='rationale-label pairs', type='Concept', properties={}), Node(id='retrieval-based dialogue system', type='Concept', properties={}), Node(id='RoSE', type='Concept', properties={}), Node(id='knowledge base question answering (KBQA)', type='Concept', properties={}), Node(id='video-grounded dialogue generation', type='Concept', properties={}), Node(id='reasoning about everyday matters', type='Concept', properties={}), Node(id='compositionality', type='Concept', properties={}), Node(id='emotion recognition in conversation', type='Concept', properties={}), Node(id='commonsense causal relations', type='Concept', properties={}), Node(id='DHLK', type='Concept', properties={})], relationships=[Relationship(source=Node(id='summarization dataset', type='Concept', properties={}), target=Node(id='summarization performance', type='Concept', properties={}), type='Evaluate-for', properties={}), Relationship(source=Node(id='question answering', type='Concept', properties={}), target=Node(id='semantic parsing', type='Concept', properties={}), type='Part-of', properties={}), Relationship(source=Node(id='natural language explanation', type='Concept', properties={}), target=Node(id='text explanation', type='Concept', properties={}), type='Hyponym-Of', properties={}), Relationship(source=Node(id='document-level relation extraction', type='Concept', properties={}), target=Node(id='relation extraction', type='Concept', properties={}), type='Part-of', properties={}), Relationship(source=Node(id='question answering qa', type='Concept', properties={}), target=Node(id='multi-document downstream tasks', type='Concept', properties={}), type='Part-of', properties={}), Relationship(source=Node(id='question answering', type='Concept', properties={}), target=Node(id='open domain question answering (ODQA)', type='Concept', properties={}), type='Used-for', properties={}), Relationship(source=Node(id='reasoning datasets', type='Concept', properties={}), target=Node(id='question answering', type='Concept', properties={}), type='Part-of', properties={}), Relationship(source=Node(id='summarization evaluation', type='Concept', properties={}), target=Node(id='Abstractive summarization', type='Concept', properties={}), type='Evaluate-for', properties={}), Relationship(source=Node(id='form question answering', type='Concept', properties={}), target=Node(id='instruction following', type='Concept', properties={}), type='Conjunction', properties={}), Relationship(source=Node(id='RSTformer', type='Concept', properties={}), target=Node(id='summarization model', type='Concept', properties={}), type='Hyponym-Of', properties={}), Relationship(source=Node(id='text generation', type='Concept', properties={}), target=Node(id='generating free-text rationales', type='Concept', properties={}), type='Used-for', properties={}), Relationship(source=Node(id='CrossSum', type='Concept', properties={}), target=Node(id='summarization system', type='Concept', properties={}), type='Part-of', properties={}), Relationship(source=Node(id='text rationale', type='Concept', properties={}), target=Node(id=\"model's reasoning\", type='Concept', properties={}), type='Evaluate-for', properties={}), Relationship(source=Node(id='relation extraction docre', type='Concept', properties={}), target=Node(id='event temporal relation extraction', type='Concept', properties={}), type='Is-a-Prerequisite-of', properties={}), Relationship(source=Node(id='natural language explanation', type='Concept', properties={}), target=Node(id='inconsistencies detection', type='Concept', properties={}), type='Evaluate-for', properties={}), Relationship(source=Node(id='summarization dataset', type='Concept', properties={}), target=Node(id='extractive summarization', type='Concept', properties={}), type='Part-of', properties={}), Relationship(source=Node(id='question answering', type='Concept', properties={}), target=Node(id='temporal reasoning', type='Concept', properties={}), type='Used-for', properties={}), Relationship(source=Node(id='summarization evaluation', type='Concept', properties={}), target=Node(id='Assessing factual consistency', type='Concept', properties={}), type='Used-for', properties={}), Relationship(source=Node(id='reasoning task', type='Concept', properties={}), target=Node(id='commonsense If-Then reasoning tasks', type='Concept', properties={}), type='Used-for', properties={}), Relationship(source=Node(id='commonsense question answering', type='Concept', properties={}), target=Node(id='decision making', type='Concept', properties={}), type='Used-for', properties={}), Relationship(source=Node(id='question answering', type='Concept', properties={}), target=Node(id='open-domain question answering', type='Concept', properties={}), type='Used-for', properties={}), Relationship(source=Node(id='question answering', type='Concept', properties={}), target=Node(id='retrieval model evaluation', type='Concept', properties={}), type='Used-for', properties={}), Relationship(source=Node(id='summarization dataset', type='Concept', properties={}), target=Node(id='abstractive summarization', type='Concept', properties={}), type='Part-of', properties={}), Relationship(source=Node(id='commonsense question answering', type='Concept', properties={}), target=Node(id='real-world knowledge evaluation', type='Concept', properties={}), type='Used-for', properties={}), Relationship(source=Node(id='text rationale', type='Concept', properties={}), target=Node(id='factual consistency', type='Concept', properties={}), type='Evaluate-for', properties={}), Relationship(source=Node(id='question answering qa', type='Concept', properties={}), target=Node(id='factual consistency evaluation', type='Concept', properties={}), type='Part-of', properties={}), Relationship(source=Node(id='summarization evaluation', type='Concept', properties={}), target=Node(id='Cross-lingual summarization', type='Concept', properties={}), type='Evaluate-for', properties={}), Relationship(source=Node(id='relation extraction docre', type='Concept', properties={}), target=Node(id='event detection and event-relation extraction tasks', type='Concept', properties={}), type='Used-for', properties={}), Relationship(source=Node(id='question answering', type='Concept', properties={}), target=Node(id='factual consistency evaluation', type='Concept', properties={}), type='Part-of', properties={}), Relationship(source=Node(id='reasoning task', type='Concept', properties={}), target=Node(id='conditional inference on joint textual and visual clues', type='Concept', properties={}), type='Used-for', properties={}), Relationship(source=Node(id='question answering qa', type='Concept', properties={}), target=Node(id='product question answering', type='Concept', properties={}), type='Part-of', properties={}), Relationship(source=Node(id='natural language explanation', type='Concept', properties={}), target=Node(id='enhancing language representation', type='Concept', properties={}), type='Used-for', properties={}), Relationship(source=Node(id='text rationale', type='Concept', properties={}), target=Node(id='free-text rationales', type='Concept', properties={}), type='Evaluate-for', properties={}), Relationship(source=Node(id='argument extraction', type='Concept', properties={}), target=Node(id='model generalizability', type='Concept', properties={}), type='Evaluate-for', properties={}), Relationship(source=Node(id='Human evaluation', type='Concept', properties={}), target=Node(id='summarization evaluation', type='Concept', properties={}), type='Evaluate-for', properties={}), Relationship(source=Node(id='form question answering', type='Concept', properties={}), target=Node(id='commonsense question answering', type='Concept', properties={}), type='Conjunction', properties={}), Relationship(source=Node(id='QAmden', type='Concept', properties={}), target=Node(id='summarization system', type='Concept', properties={}), type='Hyponym-Of', properties={}), Relationship(source=Node(id='summarization evaluation', type='Concept', properties={}), target=Node(id='Dialogue summarization', type='Concept', properties={}), type='Evaluate-for', properties={}), Relationship(source=Node(id='reasoning datasets', type='Concept', properties={}), target=Node(id='semantic parsing', type='Concept', properties={}), type='Part-of', properties={}), Relationship(source=Node(id='text rationale', type='Concept', properties={}), target=Node(id='chain-of-thought', type='Concept', properties={}), type='Evaluate-for', properties={}), Relationship(source=Node(id='reasoning task', type='Concept', properties={}), target=Node(id='multi-document non-factoid question answering', type='Concept', properties={}), type='Used-for', properties={}), Relationship(source=Node(id='reasoning task', type='Concept', properties={}), target=Node(id='counterfactual reasoning tasks', type='Concept', properties={}), type='Used-for', properties={}), Relationship(source=Node(id='COGS', type='Concept', properties={}), target=Node(id='reasoning datasets', type='Concept', properties={}), type='Hyponym-Of', properties={}), Relationship(source=Node(id='question answering', type='Concept', properties={}), target=Node(id='Table Question Answering (TQA)', type='Concept', properties={}), type='Used-for', properties={}), Relationship(source=Node(id='Multi-DYLE', type='Concept', properties={}), target=Node(id='summarization system', type='Concept', properties={}), type='Part-of', properties={}), Relationship(source=Node(id='text generation', type='Concept', properties={}), target=Node(id='controlled text generation', type='Concept', properties={}), type='Evaluate-for', properties={}), Relationship(source=Node(id='summarization dataset', type='Concept', properties={}), target=Node(id='evaluation metrics development', type='Concept', properties={}), type='Used-for', properties={}), Relationship(source=Node(id='DIONYSUS', type='Concept', properties={}), target=Node(id='summarization system', type='Concept', properties={}), type='Hyponym-Of', properties={}), Relationship(source=Node(id='form question answering', type='Concept', properties={}), target=Node(id='open domain question answering', type='Concept', properties={}), type='Conjunction', properties={}), Relationship(source=Node(id='text generation', type='Concept', properties={}), target=Node(id='data-to-text generation', type='Concept', properties={}), type='Used-for', properties={}), Relationship(source=Node(id='reasoning task', type='Concept', properties={}), target=Node(id='commonsense causality', type='Concept', properties={}), type='Used-for', properties={}), Relationship(source=Node(id='natural language explanation', type='Concept', properties={}), target=Node(id='guiding model reasoning', type='Concept', properties={}), type='Used-for', properties={}), Relationship(source=Node(id='text generation', type='Concept', properties={}), target=Node(id='explainable recommendation', type='Concept', properties={}), type='Used-for', properties={}), Relationship(source=Node(id='commonsense question answering', type='Concept', properties={}), target=Node(id='Natural Language Processing', type='Concept', properties={}), type='Part-of', properties={}), Relationship(source=Node(id='text generation', type='Concept', properties={}), target=Node(id='attribute-based Controlled Text Generation', type='Concept', properties={}), type='Used-for', properties={}), Relationship(source=Node(id='argument extraction', type='Concept', properties={}), target=Node(id='attribute extraction', type='Concept', properties={}), type='Used-for', properties={}), Relationship(source=Node(id='form question answering', type='Concept', properties={}), target=Node(id='semantic parsing', type='Concept', properties={}), type='Conjunction', properties={}), Relationship(source=Node(id='reasoning task', type='Concept', properties={}), target=Node(id='abductive reasoning tasks', type='Concept', properties={}), type='Used-for', properties={}), Relationship(source=Node(id='reasoning task', type='Concept', properties={}), target=Node(id='cross-prompt automated essay scoring', type='Concept', properties={}), type='Used-for', properties={}), Relationship(source=Node(id='text generation', type='Concept', properties={}), target=Node(id='Open-ended Long Text Generation', type='Concept', properties={}), type='Part-of', properties={}), Relationship(source=Node(id='pre-trained language models', type='Concept', properties={}), target=Node(id='relation extraction', type='Concept', properties={}), type='Used-for', properties={}), Relationship(source=Node(id='summarization dataset', type='Concept', properties={}), target=Node(id='pre-training models', type='Concept', properties={}), type='Used-for', properties={}), Relationship(source=Node(id='question answering', type='Concept', properties={}), target=Node(id='multi-document downstream tasks', type='Concept', properties={}), type='Part-of', properties={}), Relationship(source=Node(id='argument extraction', type='Concept', properties={}), target=Node(id='Event Argument Extraction (EAE)', type='Concept', properties={}), type='Part-of', properties={}), Relationship(source=Node(id='text rationale', type='Concept', properties={}), target=Node(id='explainable NLP', type='Concept', properties={}), type='Used-for', properties={}), Relationship(source=Node(id='question answering', type='Concept', properties={}), target=Node(id='Event Extraction', type='Concept', properties={}), type='Used-for', properties={}), Relationship(source=Node(id='natural language explanation', type='Concept', properties={}), target=Node(id='improving classification', type='Concept', properties={}), type='Used-for', properties={}), Relationship(source=Node(id='text rationale', type='Concept', properties={}), target=Node(id='new information', type='Concept', properties={}), type='Evaluate-for', properties={}), Relationship(source=Node(id='form question answering', type='Concept', properties={}), target=Node(id='multi-document question answering', type='Concept', properties={}), type='Conjunction', properties={}), Relationship(source=Node(id='question answering', type='Concept', properties={}), target=Node(id='open-domain question answering', type='Concept', properties={}), type='Part-of', properties={}), Relationship(source=Node(id='question answering', type='Concept', properties={}), target=Node(id='semantic representation', type='Concept', properties={}), type='Used-for', properties={}), Relationship(source=Node(id='form question answering', type='Concept', properties={}), target=Node(id='factual consistency', type='Concept', properties={}), type='Evaluate-for', properties={}), Relationship(source=Node(id='text generation', type='Concept', properties={}), target=Node(id='factual consistency in summarization', type='Concept', properties={}), type='Used-for', properties={}), Relationship(source=Node(id='text generation', type='Concept', properties={}), target=Node(id='audio-visual text generation', type='Concept', properties={}), type='Used-for', properties={}), Relationship(source=Node(id='reasoning task', type='Concept', properties={}), target=Node(id='multimodal sarcasm explanation', type='Concept', properties={}), type='Used-for', properties={}), Relationship(source=Node(id='CSJ', type='Concept', properties={}), target=Node(id='cross-lingual summarization', type='Concept', properties={}), type='Evaluate-for', properties={}), Relationship(source=Node(id='relation extraction docre', type='Concept', properties={}), target=Node(id='multimodal relation extraction', type='Concept', properties={}), type='Used-for', properties={}), Relationship(source=Node(id='event relation', type='Concept', properties={}), target=Node(id='document-level relation extraction', type='Concept', properties={}), type='Used-for', properties={}), Relationship(source=Node(id='commonsense question answering', type='Concept', properties={}), target=Node(id='assessing factual correctness', type='Concept', properties={}), type='Used-for', properties={}), Relationship(source=Node(id='Task-Oriented Dialogue System', type='Concept', properties={}), target=Node(id='dialogue system', type='Concept', properties={}), type='Hyponym-Of', properties={}), Relationship(source=Node(id='TempReason', type='Concept', properties={}), target=Node(id='reasoning datasets', type='Concept', properties={}), type='Hyponym-Of', properties={}), Relationship(source=Node(id='relation extraction docre', type='Concept', properties={}), target=Node(id='document-level relation extraction', type='Concept', properties={}), type='Evaluate-for', properties={}), Relationship(source=Node(id='question answering', type='Concept', properties={}), target=Node(id='elaboration generation', type='Concept', properties={}), type='Used-for', properties={}), Relationship(source=Node(id='text generation', type='Concept', properties={}), target=Node(id='multi-aspect controllable text generation', type='Concept', properties={}), type='Evaluate-for', properties={}), Relationship(source=Node(id='reasoning task', type='Concept', properties={}), target=Node(id='event relational reasoning tasks', type='Concept', properties={}), type='Used-for', properties={}), Relationship(source=Node(id='summarization dataset', type='Concept', properties={}), target=Node(id='few-shot summarization', type='Concept', properties={}), type='Part-of', properties={}), Relationship(source=Node(id='commonsense question answering', type='Concept', properties={}), target=Node(id='open-domain question answering', type='Concept', properties={}), type='Compare', properties={}), Relationship(source=Node(id='reasoning task', type='Concept', properties={}), target=Node(id='temporal reasoning capability', type='Concept', properties={}), type='Used-for', properties={}), Relationship(source=Node(id='question answering', type='Concept', properties={}), target=Node(id='Table Question Answering (TableQA)', type='Concept', properties={}), type='Used-for', properties={}), Relationship(source=Node(id='question answering', type='Concept', properties={}), target=Node(id='product question answering', type='Concept', properties={}), type='Part-of', properties={}), Relationship(source=Node(id='question answering', type='Concept', properties={}), target=Node(id='cross-document informational relations', type='Concept', properties={}), type='Used-for', properties={}), Relationship(source=Node(id='form question answering', type='Concept', properties={}), target=Node(id='product question answering', type='Concept', properties={}), type='Conjunction', properties={}), Relationship(source=Node(id='relation extraction', type='Concept', properties={}), target=Node(id='acquisition of relational facts', type='Concept', properties={}), type='Used-for', properties={}), Relationship(source=Node(id='CSJ', type='Concept', properties={}), target=Node(id='document-level text simplification', type='Concept', properties={}), type='Evaluate-for', properties={}), Relationship(source=Node(id='CLEVR-CoGenT', type='Concept', properties={}), target=Node(id='reasoning datasets', type='Concept', properties={}), type='Hyponym-Of', properties={}), Relationship(source=Node(id='question answering', type='Concept', properties={}), target=Node(id='Answer Sentence Selection (AS2)', type='Concept', properties={}), type='Used-for', properties={}), Relationship(source=Node(id='commonsense question answering', type='Concept', properties={}), target=Node(id='Table Question Answering', type='Concept', properties={}), type='Compare', properties={}), Relationship(source=Node(id='event relation', type='Concept', properties={}), target=Node(id='event detection', type='Concept', properties={}), type='Used-for', properties={}), Relationship(source=Node(id='reasoning task', type='Concept', properties={}), target=Node(id='lexical relations prediction', type='Concept', properties={}), type='Used-for', properties={}), Relationship(source=Node(id='natural language explanation', type='Concept', properties={}), target=Node(id='text-to-image disambiguation', type='Concept', properties={}), type='Compare', properties={}), Relationship(source=Node(id='natural language inference', type='Concept', properties={}), target=Node(id='reducing reliance on shortcuts', type='Concept', properties={}), type='Used-for', properties={}), Relationship(source=Node(id='dialogue system', type='Concept', properties={}), target=Node(id='chatbot', type='Concept', properties={}), type='Part-of', properties={}), Relationship(source=Node(id='commonsense question answering', type='Concept', properties={}), target=Node(id='factual consistency evaluation', type='Concept', properties={}), type='Used-for', properties={}), Relationship(source=Node(id='text rationale', type='Concept', properties={}), target=Node(id='human utility', type='Concept', properties={}), type='Evaluate-for', properties={}), Relationship(source=Node(id='knowledge graphs', type='Concept', properties={}), target=Node(id='commonsense question answering', type='Concept', properties={}), type='Used-for', properties={}), Relationship(source=Node(id='open-domain dialogue system', type='Concept', properties={}), target=Node(id='dialogue system', type='Concept', properties={}), type='Hyponym-Of', properties={}), Relationship(source=Node(id='reasoning task', type='Concept', properties={}), target=Node(id='competitive programming task', type='Concept', properties={}), type='Used-for', properties={}), Relationship(source=Node(id='text generation', type='Concept', properties={}), target=Node(id='open-domain dialogue systems', type='Concept', properties={}), type='Evaluate-for', properties={}), Relationship(source=Node(id='commonsense question answering', type='Concept', properties={}), target=Node(id='knowledge graphs', type='Concept', properties={}), type='Evaluate-for', properties={}), Relationship(source=Node(id='reasoning task', type='Concept', properties={}), target=Node(id='non-factoid question answering', type='Concept', properties={}), type='Used-for', properties={}), Relationship(source=Node(id='summarization dataset', type='Concept', properties={}), target=Node(id='benchmarking models', type='Concept', properties={}), type='Used-for', properties={}), Relationship(source=Node(id='form question answering', type='Concept', properties={}), target=Node(id='retrieval model', type='Concept', properties={}), type='Conjunction', properties={}), Relationship(source=Node(id='form question answering', type='Concept', properties={}), target=Node(id='long-form question answering', type='Concept', properties={}), type='Conjunction', properties={}), Relationship(source=Node(id='summarization evaluation', type='Concept', properties={}), target=Node(id='Automatic evaluation', type='Concept', properties={}), type='Part-of', properties={}), Relationship(source=Node(id='CSJ', type='Concept', properties={}), target=Node(id='summarization system', type='Concept', properties={}), type='Part-of', properties={}), Relationship(source=Node(id='question answering', type='Concept', properties={}), target=Node(id='cross-lingual transfer', type='Concept', properties={}), type='Used-for', properties={}), Relationship(source=Node(id='question answering', type='Concept', properties={}), target=Node(id='multi-hop question answering', type='Concept', properties={}), type='Used-for', properties={}), Relationship(source=Node(id='question answering', type='Concept', properties={}), target=Node(id='generating useful intermediate context', type='Concept', properties={}), type='Used-for', properties={}), Relationship(source=Node(id='ExplainMeetSum', type='Concept', properties={}), target=Node(id='summarization system', type='Concept', properties={}), type='Part-of', properties={}), Relationship(source=Node(id='reasoning task', type='Concept', properties={}), target=Node(id='multi-modal reasoning task', type='Concept', properties={}), type='Used-for', properties={}), Relationship(source=Node(id='TRAC', type='Concept', properties={}), target=Node(id='reasoning datasets', type='Concept', properties={}), type='Hyponym-Of', properties={}), Relationship(source=Node(id='SCAN', type='Concept', properties={}), target=Node(id='reasoning datasets', type='Concept', properties={}), type='Hyponym-Of', properties={}), Relationship(source=Node(id='natural language explanation', type='Concept', properties={}), target=Node(id='ambiguity resolution', type='Concept', properties={}), type='Evaluate-for', properties={}), Relationship(source=Node(id='question answering', type='Concept', properties={}), target=Node(id='commonsense reasoning', type='Concept', properties={}), type='Used-for', properties={}), Relationship(source=Node(id='natural language inference', type='Concept', properties={}), target=Node(id='out-of-distribution performance', type='Concept', properties={}), type='Evaluate-for', properties={}), Relationship(source=Node(id='reasoning', type='Concept', properties={}), target=Node(id='reasoning datasets', type='Concept', properties={}), type='Part-of', properties={}), Relationship(source=Node(id='summarization dataset', type='Concept', properties={}), target=Node(id='fine-tuning models', type='Concept', properties={}), type='Used-for', properties={}), Relationship(source=Node(id='text generation', type='Concept', properties={}), target=Node(id='factual consistency evaluation', type='Concept', properties={}), type='Used-for', properties={}), Relationship(source=Node(id='question answering', type='Concept', properties={}), target=Node(id='commonsense question answering', type='Concept', properties={}), type='Used-for', properties={}), Relationship(source=Node(id='summarization dataset', type='Concept', properties={}), target=Node(id='augmenting training data', type='Concept', properties={}), type='Used-for', properties={}), Relationship(source=Node(id='summarization evaluation', type='Concept', properties={}), target=Node(id='Multimodal summarization', type='Concept', properties={}), type='Evaluate-for', properties={}), Relationship(source=Node(id='natural language inference', type='Concept', properties={}), target=Node(id='in-distribution accuracy', type='Concept', properties={}), type='Evaluate-for', properties={}), Relationship(source=Node(id='relation extraction docre', type='Concept', properties={}), target=Node(id='knowledge graph construction', type='Concept', properties={}), type='Used-for', properties={}), Relationship(source=Node(id='commonsense question answering', type='Concept', properties={}), target=Node(id='language models', type='Concept', properties={}), type='Evaluate-for', properties={}), Relationship(source=Node(id='text rationale', type='Concept', properties={}), target=Node(id='reasoning and prediction processes', type='Concept', properties={}), type='Evaluate-for', properties={}), Relationship(source=Node(id='question answering qa', type='Concept', properties={}), target=Node(id='instruction following', type='Concept', properties={}), type='Part-of', properties={}), Relationship(source=Node(id='relation extraction', type='Concept', properties={}), target=Node(id='information extraction', type='Concept', properties={}), type='Part-of', properties={}), Relationship(source=Node(id='natural language explanation', type='Concept', properties={}), target=Node(id='gender-fairness', type='Concept', properties={}), type='Evaluate-for', properties={}), Relationship(source=Node(id='question answering', type='Concept', properties={}), target=Node(id='instruction following', type='Concept', properties={}), type='Part-of', properties={}), Relationship(source=Node(id='natural language inference', type='Concept', properties={}), target=Node(id='natural language understanding', type='Concept', properties={}), type='Part-of', properties={}), Relationship(source=Node(id='summarization dataset', type='Concept', properties={}), target=Node(id='multi-document summarization', type='Concept', properties={}), type='Part-of', properties={}), Relationship(source=Node(id='Automatic evaluation', type='Concept', properties={}), target=Node(id='summarization evaluation', type='Concept', properties={}), type='Evaluate-for', properties={}), Relationship(source=Node(id='shot learning', type='Concept', properties={}), target=Node(id='zero-shot learning', type='Concept', properties={}), type='Hyponym-Of', properties={}), Relationship(source=Node(id='MM-Sum', type='Concept', properties={}), target=Node(id='summarization system', type='Concept', properties={}), type='Part-of', properties={}), Relationship(source=Node(id='question answering', type='Concept', properties={}), target=Node(id='long-form answers evaluation', type='Concept', properties={}), type='Used-for', properties={}), Relationship(source=Node(id='question answering qa', type='Concept', properties={}), target=Node(id='open-domain question answering', type='Concept', properties={}), type='Used-for', properties={}), Relationship(source=Node(id='relation extraction docre', type='Concept', properties={}), target=Node(id='multilingual relation extraction', type='Concept', properties={}), type='Compare', properties={}), Relationship(source=Node(id='natural language explanation', type='Concept', properties={}), target=Node(id='natural language processing', type='Concept', properties={}), type='Part-of', properties={}), Relationship(source=Node(id='summarization dataset', type='Concept', properties={}), target=Node(id='dialogue summarization', type='Concept', properties={}), type='Part-of', properties={}), Relationship(source=Node(id='natural language explanation', type='Concept', properties={}), target=Node(id='justifying predictions', type='Concept', properties={}), type='Used-for', properties={}), Relationship(source=Node(id='question answering', type='Concept', properties={}), target=Node(id='information retrieval', type='Concept', properties={}), type='Used-for', properties={}), Relationship(source=Node(id='text generation', type='Concept', properties={}), target=Node(id='fairness-related harms in AI systems', type='Concept', properties={}), type='Evaluate-for', properties={}), Relationship(source=Node(id='summarization evaluation', type='Concept', properties={}), target=Node(id='Document-level text simplification', type='Concept', properties={}), type='Evaluate-for', properties={}), Relationship(source=Node(id='text generation', type='Concept', properties={}), target=Node(id='visual spatial description', type='Concept', properties={}), type='Used-for', properties={}), Relationship(source=Node(id='reasoning task', type='Concept', properties={}), target=Node(id='hierarchical text classification', type='Concept', properties={}), type='Used-for', properties={}), Relationship(source=Node(id='summarization evaluation', type='Concept', properties={}), target=Node(id='Human evaluation', type='Concept', properties={}), type='Part-of', properties={}), Relationship(source=Node(id='natural language explanation', type='Concept', properties={}), target=Node(id='classification performance', type='Concept', properties={}), type='Evaluate-for', properties={}), Relationship(source=Node(id='event relation', type='Concept', properties={}), target=Node(id='discourse analysis', type='Concept', properties={}), type='Used-for', properties={}), Relationship(source=Node(id='question answering', type='Concept', properties={}), target=Node(id='dense retrieval models evaluation', type='Concept', properties={}), type='Used-for', properties={}), Relationship(source=Node(id='commonsense question answering', type='Concept', properties={}), target=Node(id='large language models', type='Concept', properties={}), type='Evaluate-for', properties={}), Relationship(source=Node(id='relation extraction docre', type='Concept', properties={}), target=Node(id='Universal Information Extraction', type='Concept', properties={}), type='Part-of', properties={}), Relationship(source=Node(id='summarization dataset', type='Concept', properties={}), target=Node(id='human evaluation', type='Concept', properties={}), type='Part-of', properties={}), Relationship(source=Node(id='natural language explanation', type='Concept', properties={}), target=Node(id='model reasoning', type='Concept', properties={}), type='Evaluate-for', properties={}), Relationship(source=Node(id='text rationale', type='Concept', properties={}), target=Node(id='rationale-label pairs', type='Concept', properties={}), type='Evaluate-for', properties={}), Relationship(source=Node(id='form question answering', type='Concept', properties={}), target=Node(id='question answering', type='Concept', properties={}), type='Hyponym-Of', properties={}), Relationship(source=Node(id='question answering qa', type='Concept', properties={}), target=Node(id='commonsense question answering', type='Concept', properties={}), type='Part-of', properties={}), Relationship(source=Node(id='retrieval-based dialogue system', type='Concept', properties={}), target=Node(id='dialogue system', type='Concept', properties={}), type='Hyponym-Of', properties={}), Relationship(source=Node(id='RoSE', type='Concept', properties={}), target=Node(id='summarization system', type='Concept', properties={}), type='Part-of', properties={}), Relationship(source=Node(id='question answering', type='Concept', properties={}), target=Node(id='knowledge base question answering (KBQA)', type='Concept', properties={}), type='Used-for', properties={}), Relationship(source=Node(id='question answering', type='Concept', properties={}), target=Node(id='factual consistency evaluation', type='Concept', properties={}), type='Used-for', properties={}), Relationship(source=Node(id='text generation', type='Concept', properties={}), target=Node(id='video-grounded dialogue generation', type='Concept', properties={}), type='Used-for', properties={}), Relationship(source=Node(id='question answering', type='Concept', properties={}), target=Node(id='commonsense question answering', type='Concept', properties={}), type='Part-of', properties={}), Relationship(source=Node(id='commonsense question answering', type='Concept', properties={}), target=Node(id='reasoning about everyday matters', type='Concept', properties={}), type='Used-for', properties={}), Relationship(source=Node(id='summarization dataset', type='Concept', properties={}), target=Node(id='cross-lingual summarization', type='Concept', properties={}), type='Part-of', properties={}), Relationship(source=Node(id='summarization system', type='Concept', properties={}), target=Node(id='dialogue summarization', type='Concept', properties={}), type='Used-for', properties={}), Relationship(source=Node(id='form question answering', type='Concept', properties={}), target=Node(id='compositionality', type='Concept', properties={}), type='Evaluate-for', properties={}), Relationship(source=Node(id='reasoning datasets', type='Concept', properties={}), target=Node(id='instruction following', type='Concept', properties={}), type='Part-of', properties={}), Relationship(source=Node(id='text generation', type='Concept', properties={}), target=Node(id='factual consistency evaluation', type='Concept', properties={}), type='Evaluate-for', properties={}), Relationship(source=Node(id='text generation', type='Concept', properties={}), target=Node(id='emotion recognition in conversation', type='Concept', properties={}), type='Used-for', properties={}), Relationship(source=Node(id='natural language inference', type='Concept', properties={}), target=Node(id='natural language processing', type='Concept', properties={}), type='Hyponym-Of', properties={}), Relationship(source=Node(id='question answering qa', type='Concept', properties={}), target=Node(id='semantic parsing', type='Concept', properties={}), type='Part-of', properties={}), Relationship(source=Node(id='reasoning task', type='Concept', properties={}), target=Node(id='commonsense causal relations', type='Concept', properties={}), type='Used-for', properties={}), Relationship(source=Node(id='DHLK', type='Concept', properties={}), target=Node(id='commonsense question answering', type='Concept', properties={}), type='Used-for', properties={})], source=Document(metadata={}, page_content='Fused triplets data'))]\n"
     ]
    }
   ],
   "source": [
    "print(graph_documents)"
   ]
  },
  {
   "cell_type": "code",
   "execution_count": 5,
   "metadata": {},
   "outputs": [
    {
     "data": {
      "text/plain": [
       "[Node(id='summarization dataset', type='Concept', properties={}),\n",
       " Node(id='summarization performance', type='Concept', properties={}),\n",
       " Node(id='question answering', type='Concept', properties={}),\n",
       " Node(id='semantic parsing', type='Concept', properties={}),\n",
       " Node(id='natural language explanation', type='Concept', properties={}),\n",
       " Node(id='text explanation', type='Concept', properties={}),\n",
       " Node(id='document-level relation extraction', type='Concept', properties={}),\n",
       " Node(id='relation extraction', type='Concept', properties={}),\n",
       " Node(id='question answering qa', type='Concept', properties={}),\n",
       " Node(id='multi-document downstream tasks', type='Concept', properties={}),\n",
       " Node(id='open domain question answering (ODQA)', type='Concept', properties={}),\n",
       " Node(id='reasoning datasets', type='Concept', properties={}),\n",
       " Node(id='summarization evaluation', type='Concept', properties={}),\n",
       " Node(id='Abstractive summarization', type='Concept', properties={}),\n",
       " Node(id='form question answering', type='Concept', properties={}),\n",
       " Node(id='instruction following', type='Concept', properties={}),\n",
       " Node(id='RSTformer', type='Concept', properties={}),\n",
       " Node(id='summarization model', type='Concept', properties={}),\n",
       " Node(id='text generation', type='Concept', properties={}),\n",
       " Node(id='generating free-text rationales', type='Concept', properties={}),\n",
       " Node(id='CrossSum', type='Concept', properties={}),\n",
       " Node(id='summarization system', type='Concept', properties={}),\n",
       " Node(id='text rationale', type='Concept', properties={}),\n",
       " Node(id=\"model's reasoning\", type='Concept', properties={}),\n",
       " Node(id='relation extraction docre', type='Concept', properties={}),\n",
       " Node(id='event temporal relation extraction', type='Concept', properties={}),\n",
       " Node(id='inconsistencies detection', type='Concept', properties={}),\n",
       " Node(id='extractive summarization', type='Concept', properties={}),\n",
       " Node(id='temporal reasoning', type='Concept', properties={}),\n",
       " Node(id='Assessing factual consistency', type='Concept', properties={}),\n",
       " Node(id='reasoning task', type='Concept', properties={}),\n",
       " Node(id='commonsense If-Then reasoning tasks', type='Concept', properties={}),\n",
       " Node(id='commonsense question answering', type='Concept', properties={}),\n",
       " Node(id='decision making', type='Concept', properties={}),\n",
       " Node(id='open-domain question answering', type='Concept', properties={}),\n",
       " Node(id='retrieval model evaluation', type='Concept', properties={}),\n",
       " Node(id='abstractive summarization', type='Concept', properties={}),\n",
       " Node(id='real-world knowledge evaluation', type='Concept', properties={}),\n",
       " Node(id='factual consistency', type='Concept', properties={}),\n",
       " Node(id='factual consistency evaluation', type='Concept', properties={}),\n",
       " Node(id='Cross-lingual summarization', type='Concept', properties={}),\n",
       " Node(id='event detection and event-relation extraction tasks', type='Concept', properties={}),\n",
       " Node(id='conditional inference on joint textual and visual clues', type='Concept', properties={}),\n",
       " Node(id='product question answering', type='Concept', properties={}),\n",
       " Node(id='enhancing language representation', type='Concept', properties={}),\n",
       " Node(id='free-text rationales', type='Concept', properties={}),\n",
       " Node(id='argument extraction', type='Concept', properties={}),\n",
       " Node(id='model generalizability', type='Concept', properties={}),\n",
       " Node(id='Human evaluation', type='Concept', properties={}),\n",
       " Node(id='QAmden', type='Concept', properties={}),\n",
       " Node(id='Dialogue summarization', type='Concept', properties={}),\n",
       " Node(id='chain-of-thought', type='Concept', properties={}),\n",
       " Node(id='multi-document non-factoid question answering', type='Concept', properties={}),\n",
       " Node(id='counterfactual reasoning tasks', type='Concept', properties={}),\n",
       " Node(id='COGS', type='Concept', properties={}),\n",
       " Node(id='Table Question Answering (TQA)', type='Concept', properties={}),\n",
       " Node(id='Multi-DYLE', type='Concept', properties={}),\n",
       " Node(id='controlled text generation', type='Concept', properties={}),\n",
       " Node(id='evaluation metrics development', type='Concept', properties={}),\n",
       " Node(id='DIONYSUS', type='Concept', properties={}),\n",
       " Node(id='open domain question answering', type='Concept', properties={}),\n",
       " Node(id='data-to-text generation', type='Concept', properties={}),\n",
       " Node(id='commonsense causality', type='Concept', properties={}),\n",
       " Node(id='guiding model reasoning', type='Concept', properties={}),\n",
       " Node(id='explainable recommendation', type='Concept', properties={}),\n",
       " Node(id='Natural Language Processing', type='Concept', properties={}),\n",
       " Node(id='attribute-based Controlled Text Generation', type='Concept', properties={}),\n",
       " Node(id='attribute extraction', type='Concept', properties={}),\n",
       " Node(id='abductive reasoning tasks', type='Concept', properties={}),\n",
       " Node(id='cross-prompt automated essay scoring', type='Concept', properties={}),\n",
       " Node(id='Open-ended Long Text Generation', type='Concept', properties={}),\n",
       " Node(id='pre-trained language models', type='Concept', properties={}),\n",
       " Node(id='pre-training models', type='Concept', properties={}),\n",
       " Node(id='Event Argument Extraction (EAE)', type='Concept', properties={}),\n",
       " Node(id='explainable NLP', type='Concept', properties={}),\n",
       " Node(id='Event Extraction', type='Concept', properties={}),\n",
       " Node(id='improving classification', type='Concept', properties={}),\n",
       " Node(id='new information', type='Concept', properties={}),\n",
       " Node(id='multi-document question answering', type='Concept', properties={}),\n",
       " Node(id='semantic representation', type='Concept', properties={}),\n",
       " Node(id='factual consistency in summarization', type='Concept', properties={}),\n",
       " Node(id='audio-visual text generation', type='Concept', properties={}),\n",
       " Node(id='multimodal sarcasm explanation', type='Concept', properties={}),\n",
       " Node(id='CSJ', type='Concept', properties={}),\n",
       " Node(id='cross-lingual summarization', type='Concept', properties={}),\n",
       " Node(id='multimodal relation extraction', type='Concept', properties={}),\n",
       " Node(id='event relation', type='Concept', properties={}),\n",
       " Node(id='assessing factual correctness', type='Concept', properties={}),\n",
       " Node(id='Task-Oriented Dialogue System', type='Concept', properties={}),\n",
       " Node(id='dialogue system', type='Concept', properties={}),\n",
       " Node(id='TempReason', type='Concept', properties={}),\n",
       " Node(id='elaboration generation', type='Concept', properties={}),\n",
       " Node(id='multi-aspect controllable text generation', type='Concept', properties={}),\n",
       " Node(id='event relational reasoning tasks', type='Concept', properties={}),\n",
       " Node(id='few-shot summarization', type='Concept', properties={}),\n",
       " Node(id='temporal reasoning capability', type='Concept', properties={}),\n",
       " Node(id='Table Question Answering (TableQA)', type='Concept', properties={}),\n",
       " Node(id='cross-document informational relations', type='Concept', properties={}),\n",
       " Node(id='acquisition of relational facts', type='Concept', properties={}),\n",
       " Node(id='document-level text simplification', type='Concept', properties={}),\n",
       " Node(id='CLEVR-CoGenT', type='Concept', properties={}),\n",
       " Node(id='Answer Sentence Selection (AS2)', type='Concept', properties={}),\n",
       " Node(id='Table Question Answering', type='Concept', properties={}),\n",
       " Node(id='event detection', type='Concept', properties={}),\n",
       " Node(id='lexical relations prediction', type='Concept', properties={}),\n",
       " Node(id='text-to-image disambiguation', type='Concept', properties={}),\n",
       " Node(id='natural language inference', type='Concept', properties={}),\n",
       " Node(id='reducing reliance on shortcuts', type='Concept', properties={}),\n",
       " Node(id='chatbot', type='Concept', properties={}),\n",
       " Node(id='human utility', type='Concept', properties={}),\n",
       " Node(id='knowledge graphs', type='Concept', properties={}),\n",
       " Node(id='open-domain dialogue system', type='Concept', properties={}),\n",
       " Node(id='competitive programming task', type='Concept', properties={}),\n",
       " Node(id='open-domain dialogue systems', type='Concept', properties={}),\n",
       " Node(id='non-factoid question answering', type='Concept', properties={}),\n",
       " Node(id='benchmarking models', type='Concept', properties={}),\n",
       " Node(id='retrieval model', type='Concept', properties={}),\n",
       " Node(id='long-form question answering', type='Concept', properties={}),\n",
       " Node(id='Automatic evaluation', type='Concept', properties={}),\n",
       " Node(id='cross-lingual transfer', type='Concept', properties={}),\n",
       " Node(id='multi-hop question answering', type='Concept', properties={}),\n",
       " Node(id='generating useful intermediate context', type='Concept', properties={}),\n",
       " Node(id='ExplainMeetSum', type='Concept', properties={}),\n",
       " Node(id='multi-modal reasoning task', type='Concept', properties={}),\n",
       " Node(id='TRAC', type='Concept', properties={}),\n",
       " Node(id='SCAN', type='Concept', properties={}),\n",
       " Node(id='ambiguity resolution', type='Concept', properties={}),\n",
       " Node(id='commonsense reasoning', type='Concept', properties={}),\n",
       " Node(id='out-of-distribution performance', type='Concept', properties={}),\n",
       " Node(id='reasoning', type='Concept', properties={}),\n",
       " Node(id='fine-tuning models', type='Concept', properties={}),\n",
       " Node(id='augmenting training data', type='Concept', properties={}),\n",
       " Node(id='Multimodal summarization', type='Concept', properties={}),\n",
       " Node(id='in-distribution accuracy', type='Concept', properties={}),\n",
       " Node(id='knowledge graph construction', type='Concept', properties={}),\n",
       " Node(id='language models', type='Concept', properties={}),\n",
       " Node(id='reasoning and prediction processes', type='Concept', properties={}),\n",
       " Node(id='information extraction', type='Concept', properties={}),\n",
       " Node(id='gender-fairness', type='Concept', properties={}),\n",
       " Node(id='natural language understanding', type='Concept', properties={}),\n",
       " Node(id='multi-document summarization', type='Concept', properties={}),\n",
       " Node(id='shot learning', type='Concept', properties={}),\n",
       " Node(id='zero-shot learning', type='Concept', properties={}),\n",
       " Node(id='MM-Sum', type='Concept', properties={}),\n",
       " Node(id='long-form answers evaluation', type='Concept', properties={}),\n",
       " Node(id='multilingual relation extraction', type='Concept', properties={}),\n",
       " Node(id='natural language processing', type='Concept', properties={}),\n",
       " Node(id='dialogue summarization', type='Concept', properties={}),\n",
       " Node(id='justifying predictions', type='Concept', properties={}),\n",
       " Node(id='information retrieval', type='Concept', properties={}),\n",
       " Node(id='fairness-related harms in AI systems', type='Concept', properties={}),\n",
       " Node(id='Document-level text simplification', type='Concept', properties={}),\n",
       " Node(id='visual spatial description', type='Concept', properties={}),\n",
       " Node(id='hierarchical text classification', type='Concept', properties={}),\n",
       " Node(id='classification performance', type='Concept', properties={}),\n",
       " Node(id='discourse analysis', type='Concept', properties={}),\n",
       " Node(id='dense retrieval models evaluation', type='Concept', properties={}),\n",
       " Node(id='large language models', type='Concept', properties={}),\n",
       " Node(id='Universal Information Extraction', type='Concept', properties={}),\n",
       " Node(id='human evaluation', type='Concept', properties={}),\n",
       " Node(id='model reasoning', type='Concept', properties={}),\n",
       " Node(id='rationale-label pairs', type='Concept', properties={}),\n",
       " Node(id='retrieval-based dialogue system', type='Concept', properties={}),\n",
       " Node(id='RoSE', type='Concept', properties={}),\n",
       " Node(id='knowledge base question answering (KBQA)', type='Concept', properties={}),\n",
       " Node(id='video-grounded dialogue generation', type='Concept', properties={}),\n",
       " Node(id='reasoning about everyday matters', type='Concept', properties={}),\n",
       " Node(id='compositionality', type='Concept', properties={}),\n",
       " Node(id='emotion recognition in conversation', type='Concept', properties={}),\n",
       " Node(id='commonsense causal relations', type='Concept', properties={}),\n",
       " Node(id='DHLK', type='Concept', properties={})]"
      ]
     },
     "execution_count": 5,
     "metadata": {},
     "output_type": "execute_result"
    }
   ],
   "source": [
    "graph_documents[0].nodes"
   ]
  },
  {
   "cell_type": "code",
   "execution_count": 6,
   "metadata": {},
   "outputs": [
    {
     "ename": "AttributeError",
     "evalue": "'list' object has no attribute 'relationships'",
     "output_type": "error",
     "traceback": [
      "\u001b[1;31m---------------------------------------------------------------------------\u001b[0m",
      "\u001b[1;31mAttributeError\u001b[0m                            Traceback (most recent call last)",
      "Cell \u001b[1;32mIn[6], line 1\u001b[0m\n\u001b[1;32m----> 1\u001b[0m \u001b[43mgraph_documents\u001b[49m\u001b[38;5;241;43m.\u001b[39;49m\u001b[43mrelationships\u001b[49m\n",
      "\u001b[1;31mAttributeError\u001b[0m: 'list' object has no attribute 'relationships'"
     ]
    }
   ],
   "source": [
    "graph_documents.relationships"
   ]
  },
  {
   "cell_type": "code",
   "execution_count": 7,
   "metadata": {},
   "outputs": [
    {
     "name": "stdout",
     "output_type": "stream",
     "text": [
      "neo4j+s://619b4693.databases.neo4j.io\n",
      "neo4j\n",
      "T2ndXmwhXbCgkHi9mi56ZTFP6oqVUbm4II6Ic2z5HsU\n"
     ]
    }
   ],
   "source": [
    "from dotenv import load_dotenv\n",
    "import os\n",
    "\n",
    "load_dotenv(\"I:/11_DFKI_Hiwi/Work/01_Code/Graphusion/.env\")\n",
    "\n",
    "neo4j_url = os.getenv(\"NEO4J_URI\")\n",
    "neo4j_user = os.getenv(\"NEO4J_USERNAME\")\n",
    "neo4j_password = os.getenv(\"NEO4J_PASSWORD\")\n",
    "\n",
    "print(neo4j_url)\n",
    "print(neo4j_user)\n",
    "print(neo4j_password)"
   ]
  },
  {
   "cell_type": "code",
   "execution_count": 8,
   "metadata": {},
   "outputs": [
    {
     "name": "stderr",
     "output_type": "stream",
     "text": [
      "C:\\Users\\Vipul\\AppData\\Local\\Temp\\ipykernel_20008\\630389856.py:3: LangChainDeprecationWarning: The class `Neo4jGraph` was deprecated in LangChain 0.3.8 and will be removed in 1.0. An updated version of the class exists in the :class:`~langchain-neo4j package and should be used instead. To use it run `pip install -U :class:`~langchain-neo4j` and import as `from :class:`~langchain_neo4j import Neo4jGraph``.\n",
      "  graph = Neo4jGraph(url=neo4j_url, username=neo4j_user, password=neo4j_password, enhanced_schema=True)\n",
      "Received notification from DBMS server: {severity: WARNING} {code: Neo.ClientNotification.Statement.FeatureDeprecationWarning} {category: DEPRECATION} {title: This feature is deprecated and will be removed in future versions.} {description: The procedure has a deprecated field. ('config' used by 'apoc.meta.graphSample' is deprecated.)} {position: line: 1, column: 1, offset: 0} for query: \"CALL apoc.meta.graphSample() YIELD nodes, relationships RETURN nodes, [rel in relationships | {name:apoc.any.property(rel, 'type'), count: apoc.any.property(rel, 'count')}] AS relationships\"\n"
     ]
    }
   ],
   "source": [
    "from langchain_community.graphs import Neo4jGraph\n",
    "\n",
    "graph = Neo4jGraph(url=neo4j_url, username=neo4j_user, password=neo4j_password, enhanced_schema=True)"
   ]
  },
  {
   "cell_type": "code",
   "execution_count": 9,
   "metadata": {},
   "outputs": [],
   "source": [
    "graph.add_graph_documents(\n",
    "    graph_documents,\n",
    "    baseEntityLabel=False,\n",
    "    include_source=False\n",
    ")"
   ]
  },
  {
   "cell_type": "code",
   "execution_count": null,
   "metadata": {},
   "outputs": [],
   "source": []
  }
 ],
 "metadata": {
  "kernelspec": {
   "display_name": "KGRag",
   "language": "python",
   "name": "python3"
  },
  "language_info": {
   "codemirror_mode": {
    "name": "ipython",
    "version": 3
   },
   "file_extension": ".py",
   "mimetype": "text/x-python",
   "name": "python",
   "nbconvert_exporter": "python",
   "pygments_lexer": "ipython3",
   "version": "3.11.11"
  }
 },
 "nbformat": 4,
 "nbformat_minor": 2
}
